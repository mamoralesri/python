{
 "cells": [
  {
   "cell_type": "markdown",
   "metadata": {},
   "source": [
    "# Estructuras de datos en python\n",
    "\n",
    "## Contenedores de datos en python\n",
    "\n",
    "Pyton ofrece varias estructuras para el almacenamiento de datos, entre ellas tenemos \n",
    "* Tuplas *tuple*\n",
    "* Listas *list*\n",
    "* **Arreglos** *array*\n",
    "* Diccionarios *dictionaries* \n",
    "* Marcos de datos *DataFrames*\n",
    "\n",
    "### Areglos \n",
    "\n",
    "Los arreglos en Python se pueden entender como una variante de las listas con las siguientes supuestos y características: \n",
    "\n",
    "* Todos los elementos deben ser del mismo tipo \n",
    "* Se debe conocer el numero de elementos al crear el arreglo\n",
    "* En el paquete básico (estandar) de Python hay un tipo de objeto llamado array, pero este no es eficiente para calculos matemáticos y por tanto no lo usaremos este curso. \n",
    "* Los arrays que usaremos en este curso será el definido en el paquete *Numerical Python*, a menudo aabreviado como **NumPy**. Este paquete debe estar instalado previamente y se carga con *import numpy*\n",
    "* Con *numpy* se pueden llevar a cabo un amplio numero de opercaciones matemáticas sobre el arreglo completo, haceindo que no sea necesaria la necesidad del uso de loops sobre los elementos del arreglo. Esto se conoce como *vectorización*\n",
    "* Los arreglos con un solo índice (o un indice unidimensional) se conocen como vectores. Arreglos con dos indices (o un indice bidimensional) se usan como una  eficiente estructura de tados y tablas. Los arreglos pueden terner tres o más indices.  \n",
    "\n"
   ]
  },
  {
   "cell_type": "code",
   "execution_count": 1,
   "metadata": {},
   "outputs": [
    {
     "name": "stdout",
     "output_type": "stream",
     "text": [
      "[7 8 9] <class 'numpy.ndarray'>\n"
     ]
    }
   ],
   "source": [
    "# Cargamos el paquete numpy \n",
    "import numpy as np\n",
    "l2=[7,8,9] # se crea la lista l2 \n",
    "# convertimos la lista l3 en un arreglo \n",
    "a=np.array(l2)\n",
    "print(a,type(a))"
   ]
  },
  {
   "cell_type": "markdown",
   "metadata": {},
   "source": [
    "Creamos un arreglo de $n$ ceros. "
   ]
  },
  {
   "cell_type": "code",
   "execution_count": 3,
   "metadata": {},
   "outputs": [
    {
     "name": "stdout",
     "output_type": "stream",
     "text": [
      "[0. 0. 0. 0. 0.]\n"
     ]
    }
   ],
   "source": [
    "n=5\n",
    "b=np.zeros(n)\n",
    "print(b)"
   ]
  },
  {
   "cell_type": "markdown",
   "metadata": {},
   "source": [
    "Generar un arreglo de ceros donde la longitud es la misma del vector a y el tipo de elemento es el mismo de a"
   ]
  },
  {
   "cell_type": "code",
   "execution_count": 4,
   "metadata": {},
   "outputs": [
    {
     "name": "stdout",
     "output_type": "stream",
     "text": [
      "[0 0 0]\n"
     ]
    }
   ],
   "source": [
    "c=np.zeros_like(a)\n",
    "print(c)"
   ]
  },
  {
   "cell_type": "markdown",
   "metadata": {},
   "source": [
    "La función *linespace* crea un arreglo con $n$ elementos con valores distribuidos uniformemente en el intervalo $[p,q]$   "
   ]
  },
  {
   "cell_type": "code",
   "execution_count": 5,
   "metadata": {},
   "outputs": [
    {
     "name": "stdout",
     "output_type": "stream",
     "text": [
      "15\n",
      "[0.         0.35714286 0.71428571 1.07142857 1.42857143 1.78571429\n",
      " 2.14285714 2.5        2.85714286 3.21428571 3.57142857 3.92857143\n",
      " 4.28571429 4.64285714 5.        ] <class 'numpy.ndarray'>\n"
     ]
    }
   ],
   "source": [
    "a=np.linspace(0,5,15)\n",
    "print(len(a))\n",
    "print(a,type(a)) "
   ]
  },
  {
   "cell_type": "markdown",
   "metadata": {},
   "source": [
    "El código a[i:j:s] selecciona del arreglo a  los elementos iniciando en el indice i, saltando s indices pero no incluyendo el índice j  "
   ]
  },
  {
   "cell_type": "code",
   "execution_count": 6,
   "metadata": {},
   "outputs": [
    {
     "data": {
      "text/plain": [
       "array([0.35714286, 1.07142857, 1.78571429, 2.5       ])"
      ]
     },
     "execution_count": 6,
     "metadata": {},
     "output_type": "execute_result"
    }
   ],
   "source": [
    "a[1:8:2]"
   ]
  },
  {
   "cell_type": "markdown",
   "metadata": {},
   "source": [
    "Todos menos el primero (a[0]) y el útimo (a[14])"
   ]
  },
  {
   "cell_type": "code",
   "execution_count": 7,
   "metadata": {},
   "outputs": [
    {
     "data": {
      "text/plain": [
       "array([0.35714286, 0.71428571, 1.07142857, 1.42857143, 1.78571429,\n",
       "       2.14285714, 2.5       , 2.85714286, 3.21428571, 3.57142857,\n",
       "       3.92857143, 4.28571429, 4.64285714])"
      ]
     },
     "execution_count": 7,
     "metadata": {},
     "output_type": "execute_result"
    }
   ],
   "source": [
    "a[1:-1]"
   ]
  },
  {
   "cell_type": "code",
   "execution_count": 8,
   "metadata": {},
   "outputs": [
    {
     "data": {
      "text/plain": [
       "0.35714285714285715"
      ]
     },
     "execution_count": 8,
     "metadata": {},
     "output_type": "execute_result"
    }
   ],
   "source": [
    "b=a[1:-1]\n",
    "b[0]"
   ]
  },
  {
   "cell_type": "markdown",
   "metadata": {},
   "source": [
    "Selecciona de 4 en cuatro hasta el final "
   ]
  },
  {
   "cell_type": "code",
   "execution_count": 9,
   "metadata": {},
   "outputs": [
    {
     "data": {
      "text/plain": [
       "array([0.        , 1.42857143, 2.85714286, 4.28571429])"
      ]
     },
     "execution_count": 9,
     "metadata": {},
     "output_type": "execute_result"
    }
   ],
   "source": [
    "a[::4]"
   ]
  },
  {
   "cell_type": "markdown",
   "metadata": {},
   "source": [
    "## Ejemplo\n",
    "\n",
    "### Cálculo de coordenadas y valores de funciones  \n",
    "\n",
    "Suponga que tenemos una función $f(x)$ y deseamos evaluar esta función en un conjunto de puntos $x$, $x_0, x_1, \\ldots,x_{n-1}$. Podriamos organizar los $n$ pares $(x_i,f(x_i))$ en un arreglo. En este ejemplo $$f(x)=x^2\\cos(x)\\exp(x)+2$$.\n",
    "\n",
    "Hay varias formas de llevar a cabo esta tarea con Python, aquí lo haremos de dos formas, una de las cuales ilustra el concepto de *vectorización*. "
   ]
  },
  {
   "cell_type": "code",
   "execution_count": 10,
   "metadata": {},
   "outputs": [
    {
     "name": "stdout",
     "output_type": "stream",
     "text": [
      "[0.   0.25 0.5  0.75 1.  ] <class 'numpy.ndarray'>\n",
      "[2.         2.07775676 2.36172226 2.87130426 3.46869394] <class 'numpy.ndarray'>\n"
     ]
    }
   ],
   "source": [
    "# para tener disponibles las funciones coseno y exponencial \n",
    "from math import cos, exp\n",
    "n=5\n",
    "x=np.linspace(0,1,n)\n",
    "print(x,type(x))\n",
    "# definimos la función f\n",
    "def f(x):\n",
    "    return(x**2*cos(x)*exp(x)+2)\n",
    "# creamos una lista y \n",
    "y=np.array( [f(i) for i in x ] )  # note el uso de for para crear la lista  \n",
    "print(y,type(y))"
   ]
  },
  {
   "cell_type": "markdown",
   "metadata": {},
   "source": [
    "### Usando vectorización \n",
    "\n",
    "Definimos la función f2, que hace exactamente lo mismo que la función f anterior, pero note que aquí usamos las funciones cos y exp del paquete numpy (np.cos y np.exp) "
   ]
  },
  {
   "cell_type": "code",
   "execution_count": 11,
   "metadata": {},
   "outputs": [
    {
     "name": "stdout",
     "output_type": "stream",
     "text": [
      "[2.         2.07775676 2.36172226 2.87130426 3.46869394]\n"
     ]
    }
   ],
   "source": [
    "def f2(x):\n",
    "    return(x**2*np.cos(x)*np.exp(x)+2)\n",
    "y=f2(x)\n",
    "\n",
    "print(y)"
   ]
  },
  {
   "cell_type": "markdown",
   "metadata": {},
   "source": [
    "Si se intenta hacer esto con la función f de la forma anterior nos da un error. La razón de esto es que las funciones de `numpy` soportan vectorización mientras que las de `math` no. `Numpy` implementa aritmetica de vectores para arrays de cualquier dimensión, por tanto proporciona sus propias versiones de funciones matematicas como `cos`, `sin`, `exp`, `log` etc, las cuales trabajan con arreglos como argumentos y aplican la función a cada elemento. Cuando una función de Python trabaja para un argumento array, se dice que la función está vectorizada. "
   ]
  },
  {
   "cell_type": "code",
   "execution_count": 12,
   "metadata": {},
   "outputs": [],
   "source": [
    "# Esto no trabaja porque f usa las funciones de math \n",
    "# que solo trabajan sobre elementos unidimensionales\n",
    "# f(x) "
   ]
  },
  {
   "cell_type": "markdown",
   "metadata": {},
   "source": [
    "Si las expresiones matemáticas en la función $f$ involucran operaciones aritméticas básicas y funciones matemáticas del módulo `math`, $f$ quedará automáticamete vectorizada solo importando las funciones desde `numpy` en lugar de `math`. Sin embargo si las expresiones dentro de $f$ contienen la sentencia `if`, es necesario reescribir el código para que trabaje con arreglos.    "
   ]
  },
  {
   "cell_type": "markdown",
   "metadata": {},
   "source": [
    "### Gráficas de funciones \n",
    "\n",
    "Suponga que deseamos graficar la función $f(x)$ para $a\\leq x \\leq b$. Primero escogemos $n$ $x-$cordenadas en el intervalo $[a , b]$, digamos $x_0, x_1, \\ldots,x_{n-1}$, luego evaluamos $y_i=f(x_i)$ para $i=0, 1, \\ldots, n-1$. Los puntos $(x_i,y_i)$ estarán sobre la curva $y=f(x)$. Normalmente escogemos las coordenadas $x_i$ igualmente espaciadas, si guardamos los valores $x_i$ e $y_i$ en dos arreglos `x` e `y`podemos graficar la curva con el comando `plot(x,y)`. \n",
    "\n",
    "#### Gráficas con Mathplotlib\n",
    "\n",
    "El paquete estándar para graficar funciones en Python es `Mathplotlib`, primero daremos un ejemplo del uso de este en una sintaxis que paquete que es similar a la de `MATLAB`. \n",
    "\n",
    "Grafiquemos la curva $$y=t^2\\exp(-t^2)$$ para valores de $t$ entre 0 y 3. Primero generamos valores $t$ igualmente espaciados para, en este caso 51 valores. Luego calculamos los correspondientes valores de $y$ en esos puntos   "
   ]
  },
  {
   "cell_type": "code",
   "execution_count": 13,
   "metadata": {},
   "outputs": [
    {
     "data": {
      "image/png": "[encoded data removed]",
      "text/plain": [
       "<Figure size 432x288 with 1 Axes>"
      ]
     },
     "metadata": {
      "needs_background": "light"
     },
     "output_type": "display_data"
    }
   ],
   "source": [
    "import numpy as np\n",
    "# se define la función \n",
    "def f3(t):\n",
    "    return t**2*np.exp(-t**2)\n",
    "# se generan los valores de $t$\n",
    "t=np.linspace(0,3,51)\n",
    "# calcular los valores de f(t)\n",
    "y=f3(t)\n",
    "# importar el paquete para graficar \n",
    "from matplotlib.pyplot import *\n",
    "plot(t,y)\n",
    "show()"
   ]
  },
  {
   "cell_type": "code",
   "execution_count": 14,
   "metadata": {},
   "outputs": [
    {
     "data": {
      "image/png": "[encoded data removed]",
      "text/plain": [
       "<Figure size 432x288 with 1 Axes>"
      ]
     },
     "metadata": {
      "needs_background": "light"
     },
     "output_type": "display_data"
    }
   ],
   "source": [
    "plot(t, y,label=r'$t^2*exp(-t^2)$')\n",
    "xlabel('t')\n",
    "ylabel('y')\n",
    "legend(loc='best')\n",
    "axis([0, 3, -0.05, 0.4]) # [tmin, tmax, ymin, ymax]\n",
    "title('Mi primer gráfico con Matplotlib')\n",
    "show()"
   ]
  },
  {
   "cell_type": "code",
   "execution_count": null,
   "metadata": {},
   "outputs": [],
   "source": []
  }
 ],
 "metadata": {
  "kernelspec": {
   "display_name": "Python 3",
   "language": "python",
   "name": "python3"
  },
  "language_info": {
   "codemirror_mode": {
    "name": "ipython",
    "version": 3
   },
   "file_extension": ".py",
   "mimetype": "text/x-python",
   "name": "python",
   "nbconvert_exporter": "python",
   "pygments_lexer": "ipython3",
   "version": "3.7.6"
  }
 },
 "nbformat": 4,
 "nbformat_minor": 4
}
