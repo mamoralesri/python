{
 "cells": [
  {
   "cell_type": "markdown",
   "metadata": {},
   "source": [
    "# Estructuras de datos en python\n",
    "\n",
    "## Contenedores de datos en python\n",
    "\n",
    "Pyton ofrece varias estructuras para el almacenamiento de datos, entre ellas tenemos \n",
    "* Tuplas *tuple*\n",
    "* Listas *list*\n",
    "* Arreglos *array*\n",
    "* **Diccionarios** *dictionaries* \n",
    "* Marcos de datos *DataFrames*\n",
    "\n",
    "### Diccionarios \n",
    "\n",
    "Un diccionario es un objeto de Python muy flexible para almacenar diferentes tipos de datos y objetos tales como numeros, caracteres, listas y arreglos. Una lista es una colección de objetos indexada desde cero (0) hasta el número de objetos menos uno $(n-1)$. En lugar de buscar un elemento a través de un índice entero puede ser más fácil o útil usar un texto. Rigurosamente hablando, un diccionario en Python es una lista donde los indices pueden ser texto.\n",
    "\n",
    "Suponga que necesitamos guardar las temperaturas de tres ciudades: Bogotá, Lima y New York. Para eso podemos usar una lista "
   ]
  },
  {
   "cell_type": "code",
   "execution_count": null,
   "metadata": {},
   "outputs": [],
   "source": []
  },
  {
   "cell_type": "code",
   "execution_count": null,
   "metadata": {},
   "outputs": [],
   "source": [
    "temp=[14,18.5,12.1] "
   ]
  },
  {
   "cell_type": "markdown",
   "metadata": {},
   "source": [
    "pero de esta forma debemos recordar la secuencia de ciudades, por ejemplo que el indice cero corresponde a Bogotá, el indice 1 a Lima y el 2 a Nueva York. Esto es, la temperatura de Lima se obtiene como  `temp[1]`. Un diccionario con los nombres de las cuidades como indice es más conveniente porque esto permite escribir `temp['Lima']` para recuperar la temperatura de Lima, sin tener que recordar el indice. \n",
    "\n",
    "### Creación de diccionarios\n",
    "\n",
    "Los diccionarios se crean por uno de los las dos siguientes formas "
   ]
  },
  {
   "cell_type": "code",
   "execution_count": 39,
   "metadata": {},
   "outputs": [
    {
     "name": "stdout",
     "output_type": "stream",
     "text": [
      "{'Lima': 18.5, 'Bogotá': 14, 'NewYork': 12.1}\n",
      "{'Lima': 18.5, 'Bogotá': 14, 'NewYork': 12.1}\n"
     ]
    }
   ],
   "source": [
    "temp={'Lima':18.5,'Bogotá':14,'NewYork':12.1}\n",
    "print(temp)\n",
    "# otra forma de definir el mismo objeto es \n",
    "temp=dict(Lima=18.5,Bogotá=14,NewYork=12.1)\n",
    "print(temp)"
   ]
  },
  {
   "cell_type": "markdown",
   "metadata": {},
   "source": [
    "En cualquier momento, despues de su creación se puede adicionar una pareja texto:valor al diccionario, por ejemplo "
   ]
  },
  {
   "cell_type": "code",
   "execution_count": 40,
   "metadata": {},
   "outputs": [
    {
     "name": "stdout",
     "output_type": "stream",
     "text": [
      "{'Lima': 18.5, 'Bogotá': 14, 'NewYork': 12.1, 'Chile': 21.8}\n"
     ]
    }
   ],
   "source": [
    "temp['Chile']=21.8\n",
    "print(temp)"
   ]
  },
  {
   "cell_type": "markdown",
   "metadata": {},
   "source": [
    "### Operaciones con diccionarios \n",
    "\n",
    "Los indices de texto en los diccionarios se conocen como claves *(Keys)*. Una forma de recorrer los elementos de un diccionario `d` es escribiendo `for clave in d:` y trabajar con la clave y el correspondiente valor `d[clave]`. Como ejemplo podemos usar esta técnica para escribr cada ciudad con su temperatura como sigue:   "
   ]
  },
  {
   "cell_type": "code",
   "execution_count": 41,
   "metadata": {},
   "outputs": [
    {
     "name": "stdout",
     "output_type": "stream",
     "text": [
      "La temperatura en Lima es 18.5\n",
      "La temperatura en Bogotá es 14\n",
      "La temperatura en NewYork es 12.1\n",
      "La temperatura en Chile es 21.8\n"
     ]
    }
   ],
   "source": [
    "for ciudad in temp:\n",
    "    print('La temperatura en %s es %g' % (ciudad,temp[ciudad]) ) \n"
   ]
  },
  {
   "cell_type": "markdown",
   "metadata": {},
   "source": [
    "Para verificar si una clave está en el diccionario `d` usamos `clave in d`, lo cual regresará un valor lógico, por ejemplo "
   ]
  },
  {
   "cell_type": "code",
   "execution_count": 42,
   "metadata": {},
   "outputs": [
    {
     "data": {
      "text/plain": [
       "True"
      ]
     },
     "execution_count": 42,
     "metadata": {},
     "output_type": "execute_result"
    }
   ],
   "source": [
    "'Chile' in temp"
   ]
  },
  {
   "cell_type": "code",
   "execution_count": 43,
   "metadata": {},
   "outputs": [
    {
     "data": {
      "text/plain": [
       "False"
      ]
     },
     "execution_count": 43,
     "metadata": {},
     "output_type": "execute_result"
    }
   ],
   "source": [
    "'Perú' in temp"
   ]
  },
  {
   "cell_type": "markdown",
   "metadata": {},
   "source": [
    "Podemos usar esto junto con el `if` para tomar decisiones, vemos el siguiente ejemplo "
   ]
  },
  {
   "cell_type": "code",
   "execution_count": 44,
   "metadata": {},
   "outputs": [
    {
     "name": "stdout",
     "output_type": "stream",
     "text": [
      "La temperatura en Chile es 21.8\n"
     ]
    }
   ],
   "source": [
    "ciudad='Chile'\n",
    "#ciudad='Perú'\n",
    "if ciudad in temp:\n",
    "    print('La temperatura en %s es %g' % (ciudad,temp[ciudad]) ) \n",
    "else:\n",
    "        print('No hay datos de temperatura para ', ciudad)"
   ]
  },
  {
   "cell_type": "markdown",
   "metadata": {},
   "source": [
    "Tanto las claves como los valores de un diccionario se pueden extraer como una lista de la siguiente forma "
   ]
  },
  {
   "cell_type": "code",
   "execution_count": 45,
   "metadata": {},
   "outputs": [
    {
     "data": {
      "text/plain": [
       "dict_keys(['Lima', 'Bogotá', 'NewYork', 'Chile'])"
      ]
     },
     "execution_count": 45,
     "metadata": {},
     "output_type": "execute_result"
    }
   ],
   "source": [
    "temp.keys()"
   ]
  },
  {
   "cell_type": "code",
   "execution_count": 46,
   "metadata": {},
   "outputs": [
    {
     "data": {
      "text/plain": [
       "dict_values([18.5, 14, 12.1, 21.8])"
      ]
     },
     "execution_count": 46,
     "metadata": {},
     "output_type": "execute_result"
    }
   ],
   "source": [
    "temp.values()"
   ]
  },
  {
   "cell_type": "markdown",
   "metadata": {},
   "source": [
    "Las claves en un diccionario se pueden ordanar "
   ]
  },
  {
   "cell_type": "code",
   "execution_count": 48,
   "metadata": {},
   "outputs": [
    {
     "name": "stdout",
     "output_type": "stream",
     "text": [
      "{'Lima': 18.5, 'Bogotá': 14, 'NewYork': 12.1, 'Chile': 21.8}\n",
      "['Bogotá', 'Chile', 'Lima', 'NewYork']\n",
      "La temperatura en Bogotá es 14\n",
      "La temperatura en Chile es 21.8\n",
      "La temperatura en Lima es 18.5\n",
      "La temperatura en NewYork es 12.1\n"
     ]
    }
   ],
   "source": [
    "print(temp)\n",
    "print( sorted(temp) )\n",
    "\n",
    "for ciudad in  sorted(temp):\n",
    "    print('La temperatura en %s es %g' % (ciudad,temp[ciudad]) ) \n"
   ]
  },
  {
   "cell_type": "markdown",
   "metadata": {},
   "source": [
    "Se puede hacer una copia de un diccionario `d`, mediante `d.copy() "
   ]
  },
  {
   "cell_type": "code",
   "execution_count": 50,
   "metadata": {},
   "outputs": [
    {
     "name": "stdout",
     "output_type": "stream",
     "text": [
      "{'Lima': 18.5, 'Bogotá': 14, 'NewYork': 12.1, 'Chile': 21.8}\n"
     ]
    }
   ],
   "source": [
    "tempC=temp.copy()\n",
    "print(tempC)"
   ]
  },
  {
   "cell_type": "markdown",
   "metadata": {},
   "source": [
    "Se puede borrar una entrada de un diccionario `d` mediante `del d[clave]`"
   ]
  },
  {
   "cell_type": "code",
   "execution_count": 51,
   "metadata": {},
   "outputs": [
    {
     "name": "stdout",
     "output_type": "stream",
     "text": [
      "{'Bogotá': 14, 'NewYork': 12.1, 'Chile': 21.8}\n"
     ]
    }
   ],
   "source": [
    "del tempC['Lima'] \n",
    "print(tempC)"
   ]
  },
  {
   "cell_type": "markdown",
   "metadata": {},
   "source": [
    "### Ejemplo\n",
    "\n",
    "#### Polinomios y diccionarios \n",
    "\n",
    "Las claves en los diccionarios no tienen que ser necesariamente cademas de caracteres *strings*, en realidad cualquier objeto **inmutable** (recuerde las tuplas) de Python puede usarse como clave. \n",
    "\n",
    "Un tipo comun de clave que se usa para diccionarios son los enteros, a continuación se muestra como los diccionarios con enteros como claves se pueden usar como una forma de representar polinomios.\n",
    "\n",
    "Considere el polinomio $$p(x)=-1+x^2 + 3x^7$$\n",
    "los datos asociados con este polinoio se pueden ver como un conjunto de pares coeficiente-exponente, en este caso el coeeficiente $-1$ corresponde al exponente cero, el coeficiente 1 pertence al exponente 2, el coeficiente 3 corresponde al exponente 7. Un diccionario puede usarce para hacer corresponder una potencia a un coeficiente "
   ]
  },
  {
   "cell_type": "code",
   "execution_count": 6,
   "metadata": {},
   "outputs": [],
   "source": [
    "p={0:-1, 2:1, 7:3}"
   ]
  },
  {
   "cell_type": "markdown",
   "metadata": {},
   "source": [
    "Las siguentes funciones se pueden usar para evaluar un polinomio guardado en un diccionario "
   ]
  },
  {
   "cell_type": "code",
   "execution_count": 10,
   "metadata": {},
   "outputs": [
    {
     "name": "stdout",
     "output_type": "stream",
     "text": [
      "3\n"
     ]
    },
    {
     "data": {
      "text/plain": [
       "-1"
      ]
     },
     "execution_count": 10,
     "metadata": {},
     "output_type": "execute_result"
    }
   ],
   "source": [
    "def evalpoli(poli,x):\n",
    "    suma=0\n",
    "    for m in poli:\n",
    "        suma += poli[m]*x**m\n",
    "    return suma\n",
    "# p(1)\n",
    "print(evalpoli(p,1))\n",
    "#p(0)\n",
    "evalpoli(p,0)"
   ]
  },
  {
   "cell_type": "markdown",
   "metadata": {},
   "source": [
    "Otra forma más compacta de definir la función es mediante"
   ]
  },
  {
   "cell_type": "code",
   "execution_count": 12,
   "metadata": {},
   "outputs": [
    {
     "name": "stdout",
     "output_type": "stream",
     "text": [
      "-1\n"
     ]
    },
    {
     "data": {
      "text/plain": [
       "3"
      ]
     },
     "execution_count": 12,
     "metadata": {},
     "output_type": "execute_result"
    }
   ],
   "source": [
    "def evalpoli2(poli,x):\n",
    "    return  sum([poli[m]*x**m for m in poli])\n",
    "# p(1)\n",
    "print( evalpoli2(p,1) )\n",
    "# p(0)\n",
    "evalpoli2(p,0)"
   ]
  },
  {
   "cell_type": "markdown",
   "metadata": {},
   "source": [
    "### Ejercicio \n",
    "Graficar el polinomio $p(x)$ en el intervalo $[-4, 4]$   "
   ]
  },
  {
   "cell_type": "code",
   "execution_count": null,
   "metadata": {},
   "outputs": [],
   "source": []
  }
 ],
 "metadata": {
  "kernelspec": {
   "display_name": "Python 3",
   "language": "python",
   "name": "python3"
  },
  "language_info": {
   "codemirror_mode": {
    "name": "ipython",
    "version": 3
   },
   "file_extension": ".py",
   "mimetype": "text/x-python",
   "name": "python",
   "nbconvert_exporter": "python",
   "pygments_lexer": "ipython3",
   "version": "3.7.6"
  }
 },
 "nbformat": 4,
 "nbformat_minor": 4
}
