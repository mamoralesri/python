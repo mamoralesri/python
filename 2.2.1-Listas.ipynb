{
 "cells": [
  {
   "cell_type": "markdown",
   "metadata": {},
   "source": [
    "# Estructuras de datos en python\n",
    "\n",
    "## Contenedores de datos en python\n",
    "\n",
    "Pyton ofrece varias estructuras para el almacenamiento de datos, entre ellas tenemos \n",
    "* Tuplas *tuple*\n",
    "* **Listas** *list*\n",
    "* Arreglos *array*\n",
    "* Diccionarios *dictionaries* \n",
    "* Marcos de datos *DataFrames*\n",
    "\n",
    "### Listas \n",
    "\n",
    "Las listas sirven para agrupar objetos del diferente tipo aunque típicamente se usan para alojar datos de la mima naturaleza (números, caracteres, lógicos, ...), son indexadas y, a diferencia de las tuplas, son **mutables**, es decir, se pueden modificar sus elementos después de creadas. Soportan todas las características de as tuplas, pero es posible adicionar, remover y modificar sus elementos. \n",
    "\n",
    "Para crear una lista colocamos los elementos dentro de corchetes de la siguente forma:  "
   ]
  },
  {
   "cell_type": "code",
   "execution_count": 2,
   "metadata": {},
   "outputs": [
    {
     "name": "stdout",
     "output_type": "stream",
     "text": [
      "[2, 'a', 3]\n",
      "[-5, -4, -3, -2, -1, 1, 2, 3, 4, 5] <class 'list'>\n"
     ]
    }
   ],
   "source": [
    "mylista=[2,\"a\",3]\n",
    "print(mylista)\n",
    "l1=[-5,-4,-3,-2,-1,1,2,3,4,5]\n",
    "print(l1,type(l1))"
   ]
  },
  {
   "cell_type": "markdown",
   "metadata": {},
   "source": [
    "Cada elemento de una lista está asociado con un *indice* que refleja la pposiciòn del elemento en la lista. El primer elemento tiene indice 0, el segundo indice 1 y así sucesivamente. Asociados con la lista l1 anterior tenemos 11 índices, iniciando con 0 y terminando con 10. Para acceder al elemento con indice 3, es decir, al cuarto elemento de l a lista, escribimos l1[3] que corresponde a $-2$          "
   ]
  },
  {
   "cell_type": "code",
   "execution_count": 3,
   "metadata": {},
   "outputs": [
    {
     "data": {
      "text/plain": [
       "-2"
      ]
     },
     "execution_count": 3,
     "metadata": {},
     "output_type": "execute_result"
    }
   ],
   "source": [
    "# Cuarto elemento de la lista \n",
    "l1[3]"
   ]
  },
  {
   "cell_type": "markdown",
   "metadata": {},
   "source": [
    "### Inserción, adición y borrado de elementos en una lista \n",
    "A diferencia de las tuplas, las listas se pueden modificar, insertando, adicionando o borrando elementos, veamos cono se hace "
   ]
  },
  {
   "cell_type": "code",
   "execution_count": 4,
   "metadata": {},
   "outputs": [
    {
     "name": "stdout",
     "output_type": "stream",
     "text": [
      "[-5, -4, -3, -2, -1, 1, 2, 3, 4, 5, 6]\n",
      "Se inserta 0 en la posición 5\n",
      "[-5, -4, -3, -2, -1, 0, 1, 2, 3, 4, 5, 6]\n"
     ]
    }
   ],
   "source": [
    "# Adicionar un elemento al final de la lista \n",
    "l1.append(6)\n",
    "print(l1)\n",
    "# insertar elemento en la posición 5 \n",
    "print(\"Se inserta 0 en la posición 5\")\n",
    "l1.insert(5,0)\n",
    "print(l1)"
   ]
  },
  {
   "cell_type": "code",
   "execution_count": 5,
   "metadata": {},
   "outputs": [
    {
     "name": "stdout",
     "output_type": "stream",
     "text": [
      "[-6, -5, -4, -3, -2, -1, 0, 1, 2, 3, 4, 5, 6]\n"
     ]
    }
   ],
   "source": [
    "# insertar -6 como primer elemento de la lista \n",
    "l1.insert(0,-6)\n",
    "print(l1)"
   ]
  },
  {
   "cell_type": "markdown",
   "metadata": {},
   "source": [
    "Dos listas pueden ser adicionadas"
   ]
  },
  {
   "cell_type": "code",
   "execution_count": 6,
   "metadata": {},
   "outputs": [
    {
     "name": "stdout",
     "output_type": "stream",
     "text": [
      "[-6, -5, -4, -3, -2, -1, 0, 1, 2, 3, 4, 5, 6, 7, 8, 9]\n"
     ]
    }
   ],
   "source": [
    "l2=[7,8,9] \n",
    "l3=l1+l2\n",
    "print(l3)"
   ]
  },
  {
   "cell_type": "markdown",
   "metadata": {},
   "source": [
    "Para borrar un elemento de una lista se usa *del lista[i]* "
   ]
  },
  {
   "cell_type": "code",
   "execution_count": 7,
   "metadata": {},
   "outputs": [
    {
     "data": {
      "text/plain": [
       "[-6, -5, -4, -3, -2, -1, 1, 2, 3, 4, 5, 6, 7, 8, 9]"
      ]
     },
     "execution_count": 7,
     "metadata": {},
     "output_type": "execute_result"
    }
   ],
   "source": [
    "# borra el elemento con indice 6 en l3 (corresponde al cero)\n",
    "del l3[6]\n",
    "l3"
   ]
  },
  {
   "cell_type": "markdown",
   "metadata": {},
   "source": [
    "Para conocer la longitud de una lista se usa la función len() "
   ]
  },
  {
   "cell_type": "code",
   "execution_count": 8,
   "metadata": {},
   "outputs": [
    {
     "name": "stdout",
     "output_type": "stream",
     "text": [
      "13\n",
      "3\n"
     ]
    },
    {
     "data": {
      "text/plain": [
       "15"
      ]
     },
     "execution_count": 8,
     "metadata": {},
     "output_type": "execute_result"
    }
   ],
   "source": [
    "print(len(l1))\n",
    "print( len(l2) )\n",
    "len(l3)"
   ]
  },
  {
   "cell_type": "code",
   "execution_count": 9,
   "metadata": {},
   "outputs": [
    {
     "data": {
      "text/plain": [
       "[-6, -5, -4, -3, -2, -1, 1, 2, 3, 4, 5, 6, 7, 8]"
      ]
     },
     "execution_count": 9,
     "metadata": {},
     "output_type": "execute_result"
    }
   ],
   "source": [
    "# borrar el último elemento de una lista \n",
    "del l3[len(l3)-1] # ¿porqué len(l3)-1 y no solo len(l3)? \n",
    "l3"
   ]
  },
  {
   "cell_type": "markdown",
   "metadata": {},
   "source": [
    "recuperar el indice para el primer elemento de la lista igual a cierto valor "
   ]
  },
  {
   "cell_type": "code",
   "execution_count": 10,
   "metadata": {},
   "outputs": [
    {
     "data": {
      "text/plain": [
       "5"
      ]
     },
     "execution_count": 10,
     "metadata": {},
     "output_type": "execute_result"
    }
   ],
   "source": [
    "# recupera el indice para -1. Nota: si hay mas de un -1 regresa el indice del primero \n",
    "l3.index(-1)"
   ]
  },
  {
   "cell_type": "markdown",
   "metadata": {},
   "source": [
    "Averiguar si un elemento está en la lista"
   ]
  },
  {
   "cell_type": "code",
   "execution_count": 11,
   "metadata": {},
   "outputs": [
    {
     "data": {
      "text/plain": [
       "True"
      ]
     },
     "execution_count": 11,
     "metadata": {},
     "output_type": "execute_result"
    }
   ],
   "source": [
    "-1 in l3 "
   ]
  },
  {
   "cell_type": "code",
   "execution_count": 12,
   "metadata": {},
   "outputs": [
    {
     "data": {
      "text/plain": [
       "False"
      ]
     },
     "execution_count": 12,
     "metadata": {},
     "output_type": "execute_result"
    }
   ],
   "source": [
    "-1 in l2"
   ]
  },
  {
   "cell_type": "markdown",
   "metadata": {},
   "source": [
    "### Índices negativos \n",
    "Python permite indices negativos, lo cual conduce a indexar por la derecha. l[-1] corresponde al último elemento de la lista, l[-2] corresponde al anterior a l[-1] y así sucesivamente. "
   ]
  },
  {
   "cell_type": "code",
   "execution_count": 13,
   "metadata": {},
   "outputs": [
    {
     "name": "stdout",
     "output_type": "stream",
     "text": [
      "[-6, -5, -4, -3, -2, -1, 1, 2, 3, 4, 5, 6, 7, 8]\n",
      "8\n",
      "7\n"
     ]
    }
   ],
   "source": [
    "print(l3)\n",
    "print(l3[-1])\n",
    "print(l3[-2])"
   ]
  },
  {
   "cell_type": "markdown",
   "metadata": {},
   "source": [
    "### Otra forma de crear listas \n",
    "\n",
    "Es posible crear lista de forma *automatizada*, veamos algunos ejemplos: "
   ]
  },
  {
   "cell_type": "code",
   "execution_count": 14,
   "metadata": {},
   "outputs": [
    {
     "name": "stdout",
     "output_type": "stream",
     "text": [
      "range(0, 21)\n",
      "[0, 1, 2, 3, 4, 5, 6, 7, 8, 9, 10, 11, 12, 13, 14, 15, 16, 17, 18, 19, 20]\n",
      "[-5.0, -4.5, -4.0, -3.5, -3.0, -2.5, -2.0, -1.5, -1.0, -0.5, 0.0, 0.5, 1.0, 1.5, 2.0, 2.5, 3.0, 3.5, 4.0, 4.5, 5.0]\n"
     ]
    }
   ],
   "source": [
    "n=21\n",
    "GradosC=[-5+i*0.5 for i in range(n)]\n",
    "print(range(n))\n",
    "print(list(range(n)))\n",
    "print(GradosC)"
   ]
  },
  {
   "cell_type": "code",
   "execution_count": 15,
   "metadata": {},
   "outputs": [
    {
     "name": "stdout",
     "output_type": "stream",
     "text": [
      "[23.0, 23.9, 24.8, 25.7, 26.6, 27.5, 28.4, 29.3, 30.2, 31.1, 32.0, 32.9, 33.8, 34.7, 35.6, 36.5, 37.4, 38.3, 39.2, 40.1, 41.0]\n"
     ]
    }
   ],
   "source": [
    "# Convierte las temperaturas de GradosC que están en grados centígrados a grados Farenheit\n",
    "GradosF=[9.0/5*C+32 for C in GradosC]\n",
    "print(GradosF)"
   ]
  },
  {
   "cell_type": "markdown",
   "metadata": {},
   "source": [
    "### Listas anidadas \n",
    "Como en el caso de las tuplas, se pueden tener una lista cuyos elementos son listas, veamos: "
   ]
  },
  {
   "cell_type": "code",
   "execution_count": 16,
   "metadata": {},
   "outputs": [
    {
     "name": "stdout",
     "output_type": "stream",
     "text": [
      "[-25, -20, -15, -10, -5, 0, 5, 10, 15, 20, 25, 30, 35, 40]\n",
      "[-13.0, -4.0, 5.0, 14.0, 23.0, 32.0, 41.0, 50.0, 59.0, 68.0, 77.0, 86.0, 95.0, 104.0]\n",
      "[[-25, -20, -15, -10, -5, 0, 5, 10, 15, 20, 25, 30, 35, 40], [-13.0, -4.0, 5.0, 14.0, 23.0, 32.0, 41.0, 50.0, 59.0, 68.0, 77.0, 86.0, 95.0, 104.0]]\n"
     ]
    }
   ],
   "source": [
    "GradosC=list(range(-25,41,5)) \n",
    "print(list(GradosC))\n",
    "GradosF=[9.0/5*C+32 for C in GradosC]\n",
    "print(GradosF)\n",
    "tabla=[GradosC,GradosF]\n",
    "print(tabla)"
   ]
  },
  {
   "cell_type": "code",
   "execution_count": 17,
   "metadata": {},
   "outputs": [
    {
     "data": {
      "text/plain": [
       "-15"
      ]
     },
     "execution_count": 17,
     "metadata": {},
     "output_type": "execute_result"
    }
   ],
   "source": [
    "tabla[0][2]"
   ]
  },
  {
   "cell_type": "markdown",
   "metadata": {},
   "source": [
    "### Extrayendo sublistas \n",
    "L[i:] es una soblista de L que inicia en el indice *i* hasta el final de la lista  "
   ]
  },
  {
   "cell_type": "code",
   "execution_count": 19,
   "metadata": {},
   "outputs": [
    {
     "name": "stdout",
     "output_type": "stream",
     "text": [
      "[-25, -20, -15, -10, -5, 0, 5, 10, 15, 20, 25, 30, 35, 40]\n",
      "[0, 5, 10, 15, 20, 25, 30, 35, 40]\n",
      "[-5, 0, 5, 10, 15]\n",
      "[-25, -20, -15, -10, -5, 0, 5, 10, 15]\n"
     ]
    },
    {
     "data": {
      "text/plain": [
       "[-20, -15, -10, -5, 0, 5, 10, 15, 20, 25, 30, 35]"
      ]
     },
     "execution_count": 19,
     "metadata": {},
     "output_type": "execute_result"
    }
   ],
   "source": [
    "print(GradosC)\n",
    "print(GradosC[5:])\n",
    "# L[i:j] desde el indice i hasta el indice j-1 \n",
    "print(GradosC[4:9])\n",
    "# L[:j] desde el indice 0 (inicio) hasta el indice j-1 \n",
    "print(GradosC[:9])\n",
    "# todos menos el primero y el último\n",
    "GradosC[1:-1]"
   ]
  },
  {
   "cell_type": "markdown",
   "metadata": {},
   "source": [
    "Se puede hacer una copia de una lista de la siguiente forma "
   ]
  },
  {
   "cell_type": "code",
   "execution_count": 25,
   "metadata": {},
   "outputs": [
    {
     "name": "stdout",
     "output_type": "stream",
     "text": [
      "[-25, -20, -15, -10, -5, 0, 5, 10, 15, 20, 25, 30, 35, 40]\n",
      "False\n"
     ]
    },
    {
     "data": {
      "text/plain": [
       "True"
      ]
     },
     "execution_count": 25,
     "metadata": {},
     "output_type": "execute_result"
    }
   ],
   "source": [
    "Gc=GradosC[:]\n",
    "print(Gc)\n",
    "Gc2=GradosC\n",
    "print(Gc is GradosC)\n",
    "Gc2==GradosC"
   ]
  },
  {
   "cell_type": "code",
   "execution_count": null,
   "metadata": {},
   "outputs": [],
   "source": []
  }
 ],
 "metadata": {
  "kernelspec": {
   "display_name": "Python 3",
   "language": "python",
   "name": "python3"
  },
  "language_info": {
   "codemirror_mode": {
    "name": "ipython",
    "version": 3
   },
   "file_extension": ".py",
   "mimetype": "text/x-python",
   "name": "python",
   "nbconvert_exporter": "python",
   "pygments_lexer": "ipython3",
   "version": "3.7.6"
  }
 },
 "nbformat": 4,
 "nbformat_minor": 4
}
